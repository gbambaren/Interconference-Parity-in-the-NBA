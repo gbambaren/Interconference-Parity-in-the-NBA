{
 "cells": [
  {
   "cell_type": "code",
   "execution_count": 1,
   "metadata": {},
   "outputs": [],
   "source": [
    "import pandas as pd\n",
    "import numpy as np\n",
    "from sklearn.linear_model import LinearRegression\n",
    "from statsmodels.tsa.arima_model import ARIMA\n",
    "import statsmodels.api as sm\n",
    "import matplotlib.pyplot as plt"
   ]
  },
  {
   "cell_type": "code",
   "execution_count": 2,
   "metadata": {},
   "outputs": [],
   "source": [
    "west = pd.read_csv(\"West.csv\")"
   ]
  },
  {
   "cell_type": "code",
   "execution_count": 3,
   "metadata": {},
   "outputs": [
    {
     "data": {
      "text/html": [
       "<div>\n",
       "<style scoped>\n",
       "    .dataframe tbody tr th:only-of-type {\n",
       "        vertical-align: middle;\n",
       "    }\n",
       "\n",
       "    .dataframe tbody tr th {\n",
       "        vertical-align: top;\n",
       "    }\n",
       "\n",
       "    .dataframe thead th {\n",
       "        text-align: right;\n",
       "    }\n",
       "</style>\n",
       "<table border=\"1\" class=\"dataframe\">\n",
       "  <thead>\n",
       "    <tr style=\"text-align: right;\">\n",
       "      <th></th>\n",
       "      <th>BPM</th>\n",
       "      <th>DBPM</th>\n",
       "      <th>OBPM</th>\n",
       "      <th>PER</th>\n",
       "      <th>VORP</th>\n",
       "      <th>WS</th>\n",
       "      <th>Year</th>\n",
       "      <th>Moved_to</th>\n",
       "      <th>West +/-</th>\n",
       "    </tr>\n",
       "  </thead>\n",
       "  <tbody>\n",
       "    <tr>\n",
       "      <th>0</th>\n",
       "      <td>-78.1</td>\n",
       "      <td>-13.3</td>\n",
       "      <td>-65.2</td>\n",
       "      <td>-50.9</td>\n",
       "      <td>29.1</td>\n",
       "      <td>104.5</td>\n",
       "      <td>2018</td>\n",
       "      <td>West</td>\n",
       "      <td>24</td>\n",
       "    </tr>\n",
       "    <tr>\n",
       "      <th>1</th>\n",
       "      <td>-40.3</td>\n",
       "      <td>1.5</td>\n",
       "      <td>-41.8</td>\n",
       "      <td>-46.1</td>\n",
       "      <td>18.6</td>\n",
       "      <td>85.3</td>\n",
       "      <td>2017</td>\n",
       "      <td>West</td>\n",
       "      <td>42</td>\n",
       "    </tr>\n",
       "    <tr>\n",
       "      <th>2</th>\n",
       "      <td>-123.2</td>\n",
       "      <td>-31.8</td>\n",
       "      <td>-91.5</td>\n",
       "      <td>-151.8</td>\n",
       "      <td>12.1</td>\n",
       "      <td>104.8</td>\n",
       "      <td>2016</td>\n",
       "      <td>West</td>\n",
       "      <td>14</td>\n",
       "    </tr>\n",
       "    <tr>\n",
       "      <th>3</th>\n",
       "      <td>-117.4</td>\n",
       "      <td>-30.3</td>\n",
       "      <td>-87.5</td>\n",
       "      <td>-138.3</td>\n",
       "      <td>10.0</td>\n",
       "      <td>89.6</td>\n",
       "      <td>2015</td>\n",
       "      <td>West</td>\n",
       "      <td>76</td>\n",
       "    </tr>\n",
       "    <tr>\n",
       "      <th>4</th>\n",
       "      <td>-132.2</td>\n",
       "      <td>-51.8</td>\n",
       "      <td>-79.9</td>\n",
       "      <td>-130.4</td>\n",
       "      <td>11.8</td>\n",
       "      <td>95.8</td>\n",
       "      <td>2014</td>\n",
       "      <td>West</td>\n",
       "      <td>118</td>\n",
       "    </tr>\n",
       "  </tbody>\n",
       "</table>\n",
       "</div>"
      ],
      "text/plain": [
       "     BPM  DBPM  OBPM    PER  VORP     WS  Year Moved_to  West +/-\n",
       "0  -78.1 -13.3 -65.2  -50.9  29.1  104.5  2018     West        24\n",
       "1  -40.3   1.5 -41.8  -46.1  18.6   85.3  2017     West        42\n",
       "2 -123.2 -31.8 -91.5 -151.8  12.1  104.8  2016     West        14\n",
       "3 -117.4 -30.3 -87.5 -138.3  10.0   89.6  2015     West        76\n",
       "4 -132.2 -51.8 -79.9 -130.4  11.8   95.8  2014     West       118"
      ]
     },
     "execution_count": 3,
     "metadata": {},
     "output_type": "execute_result"
    }
   ],
   "source": [
    "west.head()"
   ]
  },
  {
   "cell_type": "code",
   "execution_count": 4,
   "metadata": {},
   "outputs": [
    {
     "name": "stdout",
     "output_type": "stream",
     "text": [
      "                            OLS Regression Results                            \n",
      "==============================================================================\n",
      "Dep. Variable:               West +/-   R-squared:                       0.175\n",
      "Model:                            OLS   Adj. R-squared:                  0.154\n",
      "Method:                 Least Squares   F-statistic:                     8.457\n",
      "Date:                Thu, 22 Nov 2018   Prob (F-statistic):            0.00591\n",
      "Time:                        11:51:55   Log-Likelihood:                -215.98\n",
      "No. Observations:                  41   AIC:                             434.0\n",
      "Df Residuals:                      40   BIC:                             435.7\n",
      "Df Model:                           1                                         \n",
      "Covariance Type:            nonrobust                                         \n",
      "==============================================================================\n",
      "                 coef    std err          t      P>|t|      [0.025      0.975]\n",
      "------------------------------------------------------------------------------\n",
      "PER           -0.1684      0.058     -2.908      0.006      -0.285      -0.051\n",
      "==============================================================================\n",
      "Omnibus:                        0.094   Durbin-Watson:                   0.881\n",
      "Prob(Omnibus):                  0.954   Jarque-Bera (JB):                0.145\n",
      "Skew:                          -0.098   Prob(JB):                        0.930\n",
      "Kurtosis:                       2.784   Cond. No.                         1.00\n",
      "==============================================================================\n",
      "\n",
      "Warnings:\n",
      "[1] Standard Errors assume that the covariance matrix of the errors is correctly specified.\n"
     ]
    }
   ],
   "source": [
    "# PER, smallest R-squared under 0.2\n",
    "X = west['PER']\n",
    "y = west['West +/-']\n",
    "X_c = sm.add_constant(X)\n",
    "model = sm.OLS(y, X).fit()\n",
    "predictions = model.predict(X)\n",
    "print(model.summary())"
   ]
  },
  {
   "cell_type": "code",
   "execution_count": 5,
   "metadata": {},
   "outputs": [
    {
     "data": {
      "image/png": "[encoded data removed]",
      "text/plain": [
       "<Figure size 432x288 with 1 Axes>"
      ]
     },
     "metadata": {
      "needs_background": "light"
     },
     "output_type": "display_data"
    }
   ],
   "source": [
    "plt.scatter(X,y)\n",
    "plt.plot(X, predictions, color = \"g\")\n",
    "plt.xlabel(\"PER: Player Efficiency Rating Differential\")\n",
    "plt.ylabel(\"Western Conference Record Differential\")\n",
    "plt.show()"
   ]
  },
  {
   "cell_type": "code",
   "execution_count": 6,
   "metadata": {},
   "outputs": [
    {
     "name": "stdout",
     "output_type": "stream",
     "text": [
      "                            OLS Regression Results                            \n",
      "==============================================================================\n",
      "Dep. Variable:               West +/-   R-squared:                       0.006\n",
      "Model:                            OLS   Adj. R-squared:                 -0.019\n",
      "Method:                 Least Squares   F-statistic:                    0.2460\n",
      "Date:                Thu, 22 Nov 2018   Prob (F-statistic):              0.623\n",
      "Time:                        11:51:55   Log-Likelihood:                -215.43\n",
      "No. Observations:                  41   AIC:                             434.9\n",
      "Df Residuals:                      39   BIC:                             438.3\n",
      "Df Model:                           1                                         \n",
      "Covariance Type:            nonrobust                                         \n",
      "==============================================================================\n",
      "                 coef    std err          t      P>|t|      [0.025      0.975]\n",
      "------------------------------------------------------------------------------\n",
      "const         15.8549     15.465      1.025      0.312     -15.426      47.135\n",
      "PER           -0.0599      0.121     -0.496      0.623      -0.304       0.184\n",
      "==============================================================================\n",
      "Omnibus:                        0.412   Durbin-Watson:                   0.755\n",
      "Prob(Omnibus):                  0.814   Jarque-Bera (JB):                0.557\n",
      "Skew:                          -0.022   Prob(JB):                        0.757\n",
      "Kurtosis:                       2.431   Cond. No.                         267.\n",
      "==============================================================================\n",
      "\n",
      "Warnings:\n",
      "[1] Standard Errors assume that the covariance matrix of the errors is correctly specified.\n"
     ]
    }
   ],
   "source": [
    "# PER with constant, Small Correlation, but big error, even lower R=squared\n",
    "model = sm.OLS(y, X_c).fit()\n",
    "predictions = model.predict(X_c)\n",
    "print(model.summary())"
   ]
  },
  {
   "cell_type": "code",
   "execution_count": 7,
   "metadata": {},
   "outputs": [
    {
     "data": {
      "image/png": "[encoded data removed]",
      "text/plain": [
       "<Figure size 432x288 with 1 Axes>"
      ]
     },
     "metadata": {
      "needs_background": "light"
     },
     "output_type": "display_data"
    }
   ],
   "source": [
    "plt.scatter(X,y)\n",
    "plt.plot(X, predictions, color = \"g\")\n",
    "plt.xlabel(\"PER: Player Efficiency Rating Differential\")\n",
    "plt.ylabel(\"Western Conference Record Differential\")\n",
    "plt.show()"
   ]
  },
  {
   "cell_type": "code",
   "execution_count": 8,
   "metadata": {},
   "outputs": [
    {
     "name": "stdout",
     "output_type": "stream",
     "text": [
      "                            OLS Regression Results                            \n",
      "==============================================================================\n",
      "Dep. Variable:               West +/-   R-squared:                       0.223\n",
      "Model:                            OLS   Adj. R-squared:                  0.203\n",
      "Method:                 Least Squares   F-statistic:                     11.46\n",
      "Date:                Thu, 22 Nov 2018   Prob (F-statistic):            0.00160\n",
      "Time:                        11:51:56   Log-Likelihood:                -214.74\n",
      "No. Observations:                  41   AIC:                             431.5\n",
      "Df Residuals:                      40   BIC:                             433.2\n",
      "Df Model:                           1                                         \n",
      "Covariance Type:            nonrobust                                         \n",
      "==============================================================================\n",
      "                 coef    std err          t      P>|t|      [0.025      0.975]\n",
      "------------------------------------------------------------------------------\n",
      "VORP           1.5680      0.463      3.386      0.002       0.632       2.504\n",
      "==============================================================================\n",
      "Omnibus:                        0.293   Durbin-Watson:                   0.922\n",
      "Prob(Omnibus):                  0.864   Jarque-Bera (JB):                0.479\n",
      "Skew:                          -0.067   Prob(JB):                        0.787\n",
      "Kurtosis:                       2.488   Cond. No.                         1.00\n",
      "==============================================================================\n",
      "\n",
      "Warnings:\n",
      "[1] Standard Errors assume that the covariance matrix of the errors is correctly specified.\n"
     ]
    }
   ],
   "source": [
    "#VORP, Better than PER, R-squared = 0.223\n",
    "X = west['VORP']\n",
    "y = west['West +/-']\n",
    "X_c = sm.add_constant(X)\n",
    "model = sm.OLS(y, X).fit()\n",
    "predictions = model.predict(X)\n",
    "print(model.summary())"
   ]
  },
  {
   "cell_type": "code",
   "execution_count": 9,
   "metadata": {},
   "outputs": [
    {
     "data": {
      "image/png": "[encoded data removed]",
      "text/plain": [
       "<Figure size 432x288 with 1 Axes>"
      ]
     },
     "metadata": {
      "needs_background": "light"
     },
     "output_type": "display_data"
    }
   ],
   "source": [
    "plt.scatter(X,y)\n",
    "plt.plot(X, predictions, color = \"g\")\n",
    "plt.xlabel(\"PER: Player Efficiency Rating Differential\")\n",
    "plt.ylabel(\"Western Conference Record Differential\")\n",
    "plt.show()"
   ]
  },
  {
   "cell_type": "code",
   "execution_count": 10,
   "metadata": {},
   "outputs": [
    {
     "name": "stdout",
     "output_type": "stream",
     "text": [
      "                            OLS Regression Results                            \n",
      "==============================================================================\n",
      "Dep. Variable:               West +/-   R-squared:                       0.048\n",
      "Model:                            OLS   Adj. R-squared:                  0.024\n",
      "Method:                 Least Squares   F-statistic:                     1.983\n",
      "Date:                Thu, 22 Nov 2018   Prob (F-statistic):              0.167\n",
      "Time:                        11:53:37   Log-Likelihood:                -214.55\n",
      "No. Observations:                  41   AIC:                             433.1\n",
      "Df Residuals:                      39   BIC:                             436.5\n",
      "Df Model:                           1                                         \n",
      "Covariance Type:            nonrobust                                         \n",
      "==============================================================================\n",
      "                 coef    std err          t      P>|t|      [0.025      0.975]\n",
      "------------------------------------------------------------------------------\n",
      "const          7.8553     12.731      0.617      0.541     -17.895      33.606\n",
      "VORP           1.1530      0.819      1.408      0.167      -0.503       2.809\n",
      "==============================================================================\n",
      "Omnibus:                        0.557   Durbin-Watson:                   0.839\n",
      "Prob(Omnibus):                  0.757   Jarque-Bera (JB):                0.641\n",
      "Skew:                          -0.020   Prob(JB):                        0.726\n",
      "Kurtosis:                       2.389   Cond. No.                         27.4\n",
      "==============================================================================\n",
      "\n",
      "Warnings:\n",
      "[1] Standard Errors assume that the covariance matrix of the errors is correctly specified.\n"
     ]
    }
   ],
   "source": [
    "#VORP with constant, model hardly changed, worse overall\n",
    "model = sm.OLS(y, X_c).fit()\n",
    "predictions = model.predict(X_c)\n",
    "print(model.summary())"
   ]
  },
  {
   "cell_type": "code",
   "execution_count": 11,
   "metadata": {},
   "outputs": [
    {
     "data": {
      "image/png": "[encoded data removed]",
      "text/plain": [
       "<Figure size 432x288 with 1 Axes>"
      ]
     },
     "metadata": {
      "needs_background": "light"
     },
     "output_type": "display_data"
    }
   ],
   "source": [
    "plt.scatter(X,y)\n",
    "plt.plot(X, predictions, color = \"g\")\n",
    "plt.xlabel(\"PER: Player Efficiency Rating Differential\")\n",
    "plt.ylabel(\"Western Conference Record Differential\")\n",
    "plt.show()"
   ]
  },
  {
   "cell_type": "code",
   "execution_count": 12,
   "metadata": {},
   "outputs": [
    {
     "name": "stdout",
     "output_type": "stream",
     "text": [
      "                            OLS Regression Results                            \n",
      "==============================================================================\n",
      "Dep. Variable:               West +/-   R-squared:                       0.218\n",
      "Model:                            OLS   Adj. R-squared:                  0.198\n",
      "Method:                 Least Squares   F-statistic:                     11.15\n",
      "Date:                Thu, 22 Nov 2018   Prob (F-statistic):            0.00183\n",
      "Time:                        11:55:04   Log-Likelihood:                -214.87\n",
      "No. Observations:                  41   AIC:                             431.7\n",
      "Df Residuals:                      40   BIC:                             433.5\n",
      "Df Model:                           1                                         \n",
      "Covariance Type:            nonrobust                                         \n",
      "==============================================================================\n",
      "                 coef    std err          t      P>|t|      [0.025      0.975]\n",
      "------------------------------------------------------------------------------\n",
      "BPM           -0.2139      0.064     -3.339      0.002      -0.343      -0.084\n",
      "==============================================================================\n",
      "Omnibus:                        0.149   Durbin-Watson:                   0.901\n",
      "Prob(Omnibus):                  0.928   Jarque-Bera (JB):                0.107\n",
      "Skew:                          -0.104   Prob(JB):                        0.948\n",
      "Kurtosis:                       2.862   Cond. No.                         1.00\n",
      "==============================================================================\n",
      "\n",
      "Warnings:\n",
      "[1] Standard Errors assume that the covariance matrix of the errors is correctly specified.\n"
     ]
    }
   ],
   "source": [
    "# BPM, Similar R-squared to VORP\n",
    "X = west['BPM']\n",
    "y = west['West +/-']\n",
    "X_c = sm.add_constant(X)\n",
    "model = sm.OLS(y, X).fit()\n",
    "predictions = model.predict(X)\n",
    "print(model.summary())"
   ]
  },
  {
   "cell_type": "code",
   "execution_count": 13,
   "metadata": {},
   "outputs": [
    {
     "data": {
      "image/png": "[encoded data removed]",
      "text/plain": [
       "<Figure size 432x288 with 1 Axes>"
      ]
     },
     "metadata": {
      "needs_background": "light"
     },
     "output_type": "display_data"
    }
   ],
   "source": [
    "plt.scatter(X,y)\n",
    "plt.plot(X, predictions, color = \"g\")\n",
    "plt.xlabel(\"PER: Player Efficiency Rating Differential\")\n",
    "plt.ylabel(\"Western Conference Record Differential\")\n",
    "plt.show()"
   ]
  },
  {
   "cell_type": "code",
   "execution_count": 14,
   "metadata": {},
   "outputs": [
    {
     "name": "stdout",
     "output_type": "stream",
     "text": [
      "                            OLS Regression Results                            \n",
      "==============================================================================\n",
      "Dep. Variable:               West +/-   R-squared:                       0.037\n",
      "Model:                            OLS   Adj. R-squared:                  0.012\n",
      "Method:                 Least Squares   F-statistic:                     1.479\n",
      "Date:                Thu, 22 Nov 2018   Prob (F-statistic):              0.231\n",
      "Time:                        11:55:51   Log-Likelihood:                -214.80\n",
      "No. Observations:                  41   AIC:                             433.6\n",
      "Df Residuals:                      39   BIC:                             437.0\n",
      "Df Model:                           1                                         \n",
      "Covariance Type:            nonrobust                                         \n",
      "==============================================================================\n",
      "                 coef    std err          t      P>|t|      [0.025      0.975]\n",
      "------------------------------------------------------------------------------\n",
      "const          5.7779     15.631      0.370      0.714     -25.838      37.394\n",
      "BPM           -0.1686      0.139     -1.216      0.231      -0.449       0.112\n",
      "==============================================================================\n",
      "Omnibus:                        0.050   Durbin-Watson:                   0.851\n",
      "Prob(Omnibus):                  0.975   Jarque-Bera (JB):                0.170\n",
      "Skew:                          -0.075   Prob(JB):                        0.919\n",
      "Kurtosis:                       2.723   Cond. No.                         241.\n",
      "==============================================================================\n",
      "\n",
      "Warnings:\n",
      "[1] Standard Errors assume that the covariance matrix of the errors is correctly specified.\n"
     ]
    }
   ],
   "source": [
    "#BPM with constant, Smaller R-squared value, not much change on graph\n",
    "model = sm.OLS(y, X_c).fit()\n",
    "predictions = model.predict(X_c)\n",
    "print(model.summary())"
   ]
  },
  {
   "cell_type": "code",
   "execution_count": 15,
   "metadata": {},
   "outputs": [
    {
     "data": {
      "image/png": "[encoded data removed]",
      "text/plain": [
       "<Figure size 432x288 with 1 Axes>"
      ]
     },
     "metadata": {
      "needs_background": "light"
     },
     "output_type": "display_data"
    }
   ],
   "source": [
    "plt.scatter(X,y)\n",
    "plt.plot(X, predictions, color = \"g\")\n",
    "plt.xlabel(\"PER: Player Efficiency Rating Differential\")\n",
    "plt.ylabel(\"Western Conference Record Differential\")\n",
    "plt.show()"
   ]
  },
  {
   "cell_type": "code",
   "execution_count": 16,
   "metadata": {},
   "outputs": [
    {
     "name": "stdout",
     "output_type": "stream",
     "text": [
      "                            OLS Regression Results                            \n",
      "==============================================================================\n",
      "Dep. Variable:               West +/-   R-squared:                       0.256\n",
      "Model:                            OLS   Adj. R-squared:                  0.237\n",
      "Method:                 Least Squares   F-statistic:                     13.77\n",
      "Date:                Thu, 22 Nov 2018   Prob (F-statistic):           0.000629\n",
      "Time:                        11:56:59   Log-Likelihood:                -213.85\n",
      "No. Observations:                  41   AIC:                             429.7\n",
      "Df Residuals:                      40   BIC:                             431.4\n",
      "Df Model:                           1                                         \n",
      "Covariance Type:            nonrobust                                         \n",
      "==============================================================================\n",
      "                 coef    std err          t      P>|t|      [0.025      0.975]\n",
      "------------------------------------------------------------------------------\n",
      "WS             0.3098      0.083      3.711      0.001       0.141       0.479\n",
      "==============================================================================\n",
      "Omnibus:                        0.190   Durbin-Watson:                   0.868\n",
      "Prob(Omnibus):                  0.909   Jarque-Bera (JB):                0.379\n",
      "Skew:                          -0.108   Prob(JB):                        0.827\n",
      "Kurtosis:                       2.581   Cond. No.                         1.00\n",
      "==============================================================================\n",
      "\n",
      "Warnings:\n",
      "[1] Standard Errors assume that the covariance matrix of the errors is correctly specified.\n"
     ]
    }
   ],
   "source": [
    "X = west['WS']\n",
    "y = west['West +/-']\n",
    "X_c = sm.add_constant(X)\n",
    "model = sm.OLS(y, X).fit()\n",
    "predictions = model.predict(X)\n",
    "print(model.summary())"
   ]
  },
  {
   "cell_type": "code",
   "execution_count": 17,
   "metadata": {},
   "outputs": [
    {
     "data": {
      "image/png": "[encoded data removed]",
      "text/plain": [
       "<Figure size 432x288 with 1 Axes>"
      ]
     },
     "metadata": {
      "needs_background": "light"
     },
     "output_type": "display_data"
    }
   ],
   "source": [
    "plt.scatter(X,y)\n",
    "plt.plot(X, predictions, color = \"g\")\n",
    "plt.xlabel(\"PER: Player Efficiency Rating Differential\")\n",
    "plt.ylabel(\"Western Conference Record Differential\")\n",
    "plt.show()"
   ]
  },
  {
   "cell_type": "code",
   "execution_count": 18,
   "metadata": {},
   "outputs": [
    {
     "name": "stdout",
     "output_type": "stream",
     "text": [
      "                            OLS Regression Results                            \n",
      "==============================================================================\n",
      "Dep. Variable:               West +/-   R-squared:                       0.088\n",
      "Model:                            OLS   Adj. R-squared:                  0.064\n",
      "Method:                 Least Squares   F-statistic:                     3.751\n",
      "Date:                Thu, 22 Nov 2018   Prob (F-statistic):             0.0600\n",
      "Time:                        11:59:39   Log-Likelihood:                -213.68\n",
      "No. Observations:                  41   AIC:                             431.4\n",
      "Df Residuals:                      39   BIC:                             434.8\n",
      "Df Model:                           1                                         \n",
      "Covariance Type:            nonrobust                                         \n",
      "==============================================================================\n",
      "                 coef    std err          t      P>|t|      [0.025      0.975]\n",
      "------------------------------------------------------------------------------\n",
      "const        -10.4154     18.461     -0.564      0.576     -47.756      26.925\n",
      "WS             0.4237      0.219      1.937      0.060      -0.019       0.866\n",
      "==============================================================================\n",
      "Omnibus:                        0.292   Durbin-Watson:                   0.955\n",
      "Prob(Omnibus):                  0.864   Jarque-Bera (JB):                0.363\n",
      "Skew:                          -0.183   Prob(JB):                        0.834\n",
      "Kurtosis:                       2.720   Cond. No.                         219.\n",
      "==============================================================================\n",
      "\n",
      "Warnings:\n",
      "[1] Standard Errors assume that the covariance matrix of the errors is correctly specified.\n"
     ]
    }
   ],
   "source": [
    "#WS with constant\n",
    "model = sm.OLS(y, X_c).fit()\n",
    "predictions = model.predict(X_c)\n",
    "print(model.summary())"
   ]
  },
  {
   "cell_type": "code",
   "execution_count": 19,
   "metadata": {},
   "outputs": [
    {
     "data": {
      "image/png": "[encoded data removed]",
      "text/plain": [
       "<Figure size 432x288 with 1 Axes>"
      ]
     },
     "metadata": {
      "needs_background": "light"
     },
     "output_type": "display_data"
    }
   ],
   "source": [
    "plt.scatter(X,y)\n",
    "plt.plot(X, predictions, color = \"g\")\n",
    "plt.xlabel(\"PER: Player Efficiency Rating Differential\")\n",
    "plt.ylabel(\"Western Conference Record Differential\")\n",
    "plt.show()"
   ]
  },
  {
   "cell_type": "code",
   "execution_count": 21,
   "metadata": {},
   "outputs": [
    {
     "name": "stdout",
     "output_type": "stream",
     "text": [
      "                            OLS Regression Results                            \n",
      "==============================================================================\n",
      "Dep. Variable:               West +/-   R-squared:                       0.257\n",
      "Model:                            OLS   Adj. R-squared:                  0.218\n",
      "Method:                 Least Squares   F-statistic:                     6.730\n",
      "Date:                Thu, 22 Nov 2018   Prob (F-statistic):            0.00308\n",
      "Time:                        12:03:33   Log-Likelihood:                -213.83\n",
      "No. Observations:                  41   AIC:                             431.7\n",
      "Df Residuals:                      39   BIC:                             435.1\n",
      "Df Model:                           2                                         \n",
      "Covariance Type:            nonrobust                                         \n",
      "==============================================================================\n",
      "                 coef    std err          t      P>|t|      [0.025      0.975]\n",
      "------------------------------------------------------------------------------\n",
      "WS             0.2813      0.198      1.423      0.163      -0.118       0.681\n",
      "BPM           -0.0236      0.148     -0.160      0.874      -0.323       0.275\n",
      "==============================================================================\n",
      "Omnibus:                        0.147   Durbin-Watson:                   0.868\n",
      "Prob(Omnibus):                  0.929   Jarque-Bera (JB):                0.332\n",
      "Skew:                          -0.101   Prob(JB):                        0.847\n",
      "Kurtosis:                       2.608   Cond. No.                         4.66\n",
      "==============================================================================\n",
      "\n",
      "Warnings:\n",
      "[1] Standard Errors assume that the covariance matrix of the errors is correctly specified.\n"
     ]
    }
   ],
   "source": [
    "X = west[['WS', 'BPM']]\n",
    "y = west['West +/-']\n",
    "X_c = sm.add_constant(X)\n",
    "model = sm.OLS(y, X).fit()\n",
    "predictions = model.predict(X)\n",
    "print(model.summary())"
   ]
  },
  {
   "cell_type": "code",
   "execution_count": 22,
   "metadata": {},
   "outputs": [
    {
     "name": "stdout",
     "output_type": "stream",
     "text": [
      "                            OLS Regression Results                            \n",
      "==============================================================================\n",
      "Dep. Variable:               West +/-   R-squared:                       0.256\n",
      "Model:                            OLS   Adj. R-squared:                  0.218\n",
      "Method:                 Least Squares   F-statistic:                     6.714\n",
      "Date:                Thu, 22 Nov 2018   Prob (F-statistic):            0.00312\n",
      "Time:                        12:03:49   Log-Likelihood:                -213.84\n",
      "No. Observations:                  41   AIC:                             431.7\n",
      "Df Residuals:                      39   BIC:                             435.1\n",
      "Df Model:                           2                                         \n",
      "Covariance Type:            nonrobust                                         \n",
      "==============================================================================\n",
      "                 coef    std err          t      P>|t|      [0.025      0.975]\n",
      "------------------------------------------------------------------------------\n",
      "WS             0.3221      0.244      1.323      0.194      -0.170       0.815\n",
      "VORP          -0.0715      1.322     -0.054      0.957      -2.745       2.602\n",
      "==============================================================================\n",
      "Omnibus:                        0.186   Durbin-Watson:                   0.866\n",
      "Prob(Omnibus):                  0.911   Jarque-Bera (JB):                0.373\n",
      "Skew:                          -0.109   Prob(JB):                        0.830\n",
      "Kurtosis:                       2.586   Cond. No.                         16.1\n",
      "==============================================================================\n",
      "\n",
      "Warnings:\n",
      "[1] Standard Errors assume that the covariance matrix of the errors is correctly specified.\n"
     ]
    }
   ],
   "source": [
    "X = west[['WS', 'VORP']]\n",
    "y = west['West +/-']\n",
    "X_c = sm.add_constant(X)\n",
    "model = sm.OLS(y, X).fit()\n",
    "predictions = model.predict(X)\n",
    "print(model.summary())"
   ]
  },
  {
   "cell_type": "code",
   "execution_count": 23,
   "metadata": {},
   "outputs": [
    {
     "name": "stdout",
     "output_type": "stream",
     "text": [
      "                            OLS Regression Results                            \n",
      "==============================================================================\n",
      "Dep. Variable:               West +/-   R-squared:                       0.254\n",
      "Model:                            OLS   Adj. R-squared:                  0.215\n",
      "Method:                 Least Squares   F-statistic:                     6.624\n",
      "Date:                Thu, 22 Nov 2018   Prob (F-statistic):            0.00334\n",
      "Time:                        12:04:00   Log-Likelihood:                -213.92\n",
      "No. Observations:                  41   AIC:                             431.8\n",
      "Df Residuals:                      39   BIC:                             435.3\n",
      "Df Model:                           2                                         \n",
      "Covariance Type:            nonrobust                                         \n",
      "==============================================================================\n",
      "                 coef    std err          t      P>|t|      [0.025      0.975]\n",
      "------------------------------------------------------------------------------\n",
      "VORP           0.9296      0.682      1.364      0.180      -0.449       2.308\n",
      "BPM           -0.1192      0.094     -1.269      0.212      -0.309       0.071\n",
      "==============================================================================\n",
      "Omnibus:                        0.049   Durbin-Watson:                   0.899\n",
      "Prob(Omnibus):                  0.976   Jarque-Bera (JB):                0.237\n",
      "Skew:                          -0.044   Prob(JB):                        0.888\n",
      "Kurtosis:                       2.638   Cond. No.                         10.9\n",
      "==============================================================================\n",
      "\n",
      "Warnings:\n",
      "[1] Standard Errors assume that the covariance matrix of the errors is correctly specified.\n"
     ]
    }
   ],
   "source": [
    "X = west[['VORP', 'BPM']]\n",
    "y = west['West +/-']\n",
    "X_c = sm.add_constant(X)\n",
    "model = sm.OLS(y, X).fit()\n",
    "predictions = model.predict(X)\n",
    "print(model.summary())"
   ]
  },
  {
   "cell_type": "code",
   "execution_count": 24,
   "metadata": {},
   "outputs": [
    {
     "name": "stdout",
     "output_type": "stream",
     "text": [
      "                            OLS Regression Results                            \n",
      "==============================================================================\n",
      "Dep. Variable:               West +/-   R-squared:                       0.259\n",
      "Model:                            OLS   Adj. R-squared:                  0.221\n",
      "Method:                 Least Squares   F-statistic:                     6.832\n",
      "Date:                Thu, 22 Nov 2018   Prob (F-statistic):            0.00286\n",
      "Time:                        12:04:10   Log-Likelihood:                -213.75\n",
      "No. Observations:                  41   AIC:                             431.5\n",
      "Df Residuals:                      39   BIC:                             434.9\n",
      "Df Model:                           2                                         \n",
      "Covariance Type:            nonrobust                                         \n",
      "==============================================================================\n",
      "                 coef    std err          t      P>|t|      [0.025      0.975]\n",
      "------------------------------------------------------------------------------\n",
      "WS             0.3758      0.178      2.115      0.041       0.016       0.735\n",
      "PER            0.0494      0.117      0.422      0.675      -0.187       0.286\n",
      "==============================================================================\n",
      "Omnibus:                        0.353   Durbin-Watson:                   0.871\n",
      "Prob(Omnibus):                  0.838   Jarque-Bera (JB):                0.526\n",
      "Skew:                          -0.116   Prob(JB):                        0.769\n",
      "Kurtosis:                       2.496   Cond. No.                         4.36\n",
      "==============================================================================\n",
      "\n",
      "Warnings:\n",
      "[1] Standard Errors assume that the covariance matrix of the errors is correctly specified.\n"
     ]
    }
   ],
   "source": [
    "X = west[['WS', 'PER']]\n",
    "y = west['West +/-']\n",
    "X_c = sm.add_constant(X)\n",
    "model = sm.OLS(y, X).fit()\n",
    "predictions = model.predict(X)\n",
    "print(model.summary())"
   ]
  },
  {
   "cell_type": "code",
   "execution_count": 25,
   "metadata": {},
   "outputs": [
    {
     "name": "stdout",
     "output_type": "stream",
     "text": [
      "                            OLS Regression Results                            \n",
      "==============================================================================\n",
      "Dep. Variable:               West +/-   R-squared:                       0.252\n",
      "Model:                            OLS   Adj. R-squared:                  0.214\n",
      "Method:                 Least Squares   F-statistic:                     6.585\n",
      "Date:                Thu, 22 Nov 2018   Prob (F-statistic):            0.00344\n",
      "Time:                        12:04:22   Log-Likelihood:                -213.95\n",
      "No. Observations:                  41   AIC:                             431.9\n",
      "Df Residuals:                      39   BIC:                             435.3\n",
      "Df Model:                           2                                         \n",
      "Covariance Type:            nonrobust                                         \n",
      "==============================================================================\n",
      "                 coef    std err          t      P>|t|      [0.025      0.975]\n",
      "------------------------------------------------------------------------------\n",
      "PER            0.3585      0.267      1.341      0.188      -0.182       0.899\n",
      "BPM           -0.6122      0.304     -2.016      0.051      -1.226       0.002\n",
      "==============================================================================\n",
      "Omnibus:                        0.087   Durbin-Watson:                   0.942\n",
      "Prob(Omnibus):                  0.957   Jarque-Bera (JB):                0.017\n",
      "Skew:                          -0.000   Prob(JB):                        0.991\n",
      "Kurtosis:                       2.899   Cond. No.                         9.55\n",
      "==============================================================================\n",
      "\n",
      "Warnings:\n",
      "[1] Standard Errors assume that the covariance matrix of the errors is correctly specified.\n"
     ]
    }
   ],
   "source": [
    "X = west[['PER', 'BPM']]\n",
    "y = west['West +/-']\n",
    "X_c = sm.add_constant(X)\n",
    "model = sm.OLS(y, X).fit()\n",
    "predictions = model.predict(X)\n",
    "print(model.summary())"
   ]
  },
  {
   "cell_type": "code",
   "execution_count": 26,
   "metadata": {},
   "outputs": [
    {
     "name": "stdout",
     "output_type": "stream",
     "text": [
      "                            OLS Regression Results                            \n",
      "==============================================================================\n",
      "Dep. Variable:               West +/-   R-squared:                       0.236\n",
      "Model:                            OLS   Adj. R-squared:                  0.197\n",
      "Method:                 Least Squares   F-statistic:                     6.021\n",
      "Date:                Thu, 22 Nov 2018   Prob (F-statistic):            0.00526\n",
      "Time:                        12:04:37   Log-Likelihood:                -214.39\n",
      "No. Observations:                  41   AIC:                             432.8\n",
      "Df Residuals:                      39   BIC:                             436.2\n",
      "Df Model:                           2                                         \n",
      "Covariance Type:            nonrobust                                         \n",
      "==============================================================================\n",
      "                 coef    std err          t      P>|t|      [0.025      0.975]\n",
      "------------------------------------------------------------------------------\n",
      "PER           -0.0662      0.081     -0.820      0.417      -0.230       0.097\n",
      "VORP           1.1779      0.665      1.770      0.085      -0.168       2.524\n",
      "==============================================================================\n",
      "Omnibus:                        0.085   Durbin-Watson:                   0.909\n",
      "Prob(Omnibus):                  0.958   Jarque-Bera (JB):                0.284\n",
      "Skew:                          -0.056   Prob(JB):                        0.868\n",
      "Kurtosis:                       2.608   Cond. No.                         11.9\n",
      "==============================================================================\n",
      "\n",
      "Warnings:\n",
      "[1] Standard Errors assume that the covariance matrix of the errors is correctly specified.\n"
     ]
    }
   ],
   "source": [
    "X = west[['PER', 'VORP']]\n",
    "y = west['West +/-']\n",
    "X_c = sm.add_constant(X)\n",
    "model = sm.OLS(y, X).fit()\n",
    "predictions = model.predict(X)\n",
    "print(model.summary())"
   ]
  },
  {
   "cell_type": "code",
   "execution_count": 36,
   "metadata": {},
   "outputs": [
    {
     "name": "stdout",
     "output_type": "stream",
     "text": [
      "Linear regression score: 0.090576\n",
      "Linear model coefficients: [ 0.38109861 -0.05373246]\n",
      "Linear model y intercept: -12.455219\n"
     ]
    }
   ],
   "source": [
    "X = west[['WS', 'BPM']]\n",
    "\n",
    "lm = LinearRegression()\n",
    "\n",
    "model = lm.fit(X, y)\n",
    "\n",
    "predictions = lm.predict(X)\n",
    "\n",
    "print(\"Linear regression score: %f\" % lm.score(X, y))\n",
    "\n",
    "print(\"Linear model coefficients: \" + str(lm.coef_))\n",
    "\n",
    "print(\"Linear model y intercept: %f\" % lm.intercept_)"
   ]
  },
  {
   "cell_type": "code",
   "execution_count": 37,
   "metadata": {},
   "outputs": [
    {
     "name": "stdout",
     "output_type": "stream",
     "text": [
      "Linear regression score: 0.089259\n",
      "Linear model coefficients: [ 0.50272863 -0.35401341]\n",
      "Linear model y intercept: -12.048326\n"
     ]
    }
   ],
   "source": [
    "X = west[['WS', 'VORP']]\n",
    "\n",
    "lm = LinearRegression()\n",
    "\n",
    "model = lm.fit(X, y)\n",
    "\n",
    "predictions = lm.predict(X)\n",
    "\n",
    "print(\"Linear regression score: %f\" % lm.score(X, y))\n",
    "\n",
    "print(\"Linear model coefficients: \" + str(lm.coef_))\n",
    "\n",
    "print(\"Linear model y intercept: %f\" % lm.intercept_)"
   ]
  },
  {
   "cell_type": "code",
   "execution_count": 38,
   "metadata": {},
   "outputs": [
    {
     "name": "stdout",
     "output_type": "stream",
     "text": [
      "Linear regression score: 0.089065\n",
      "Linear model coefficients: [0.44503425 0.02964558]\n",
      "Linear model y intercept: -8.743911\n"
     ]
    }
   ],
   "source": [
    "X = west[['WS', 'PER']]\n",
    "\n",
    "lm = LinearRegression()\n",
    "\n",
    "model = lm.fit(X, y)\n",
    "\n",
    "predictions = lm.predict(X)\n",
    "\n",
    "print(\"Linear regression score: %f\" % lm.score(X, y))\n",
    "\n",
    "print(\"Linear model coefficients: \" + str(lm.coef_))\n",
    "\n",
    "print(\"Linear model y intercept: %f\" % lm.intercept_)"
   ]
  },
  {
   "cell_type": "code",
   "execution_count": 39,
   "metadata": {},
   "outputs": [
    {
     "name": "stdout",
     "output_type": "stream",
     "text": [
      "Linear regression score: 0.081304\n",
      "Linear model coefficients: [ 1.110005   -0.16013107]\n",
      "Linear model y intercept: -7.562254\n"
     ]
    }
   ],
   "source": [
    "X = west[['VORP', 'BPM']]\n",
    "\n",
    "lm = LinearRegression()\n",
    "\n",
    "model = lm.fit(X, y)\n",
    "\n",
    "predictions = lm.predict(X)\n",
    "\n",
    "print(\"Linear regression score: %f\" % lm.score(X, y))\n",
    "\n",
    "print(\"Linear model coefficients: \" + str(lm.coef_))\n",
    "\n",
    "print(\"Linear model y intercept: %f\" % lm.intercept_)"
   ]
  },
  {
   "cell_type": "code",
   "execution_count": 40,
   "metadata": {},
   "outputs": [
    {
     "name": "stdout",
     "output_type": "stream",
     "text": [
      "Linear regression score: 0.083209\n",
      "Linear model coefficients: [ 0.3783311  -0.56658897]\n",
      "Linear model y intercept: 8.631943\n"
     ]
    }
   ],
   "source": [
    "X = west[['PER', 'BPM']]\n",
    "\n",
    "lm = LinearRegression()\n",
    "\n",
    "model = lm.fit(X, y)\n",
    "\n",
    "predictions = lm.predict(X)\n",
    "\n",
    "print(\"Linear regression score: %f\" % lm.score(X, y))\n",
    "\n",
    "print(\"Linear model coefficients: \" + str(lm.coef_))\n",
    "\n",
    "print(\"Linear model y intercept: %f\" % lm.intercept_)"
   ]
  },
  {
   "cell_type": "code",
   "execution_count": 41,
   "metadata": {},
   "outputs": [
    {
     "name": "stdout",
     "output_type": "stream",
     "text": [
      "Linear regression score: 0.055401\n",
      "Linear model coefficients: [-0.0632989   1.16199733]\n",
      "Linear model y intercept: 0.622566\n"
     ]
    }
   ],
   "source": [
    "X = west[['PER', 'VORP']]\n",
    "\n",
    "lm = LinearRegression()\n",
    "\n",
    "model = lm.fit(X, y)\n",
    "\n",
    "predictions = lm.predict(X)\n",
    "\n",
    "print(\"Linear regression score: %f\" % lm.score(X, y))\n",
    "\n",
    "print(\"Linear model coefficients: \" + str(lm.coef_))\n",
    "\n",
    "print(\"Linear model y intercept: %f\" % lm.intercept_)"
   ]
  },
  {
   "cell_type": "code",
   "execution_count": 42,
   "metadata": {},
   "outputs": [
    {
     "name": "stdout",
     "output_type": "stream",
     "text": [
      "Linear regression score: 0.090579\n",
      "Linear model coefficients: [ 0.38770712 -0.05191712 -0.02315526]\n",
      "Linear model y intercept: -12.493111\n"
     ]
    }
   ],
   "source": [
    "X = west[['WS', 'BPM', 'VORP']]\n",
    "\n",
    "lm = LinearRegression()\n",
    "\n",
    "model = lm.fit(X, y)\n",
    "\n",
    "predictions = lm.predict(X)\n",
    "\n",
    "print(\"Linear regression score: %f\" % lm.score(X, y))\n",
    "\n",
    "print(\"Linear model coefficients: \" + str(lm.coef_))\n",
    "\n",
    "print(\"Linear model y intercept: %f\" % lm.intercept_)"
   ]
  },
  {
   "cell_type": "code",
   "execution_count": 43,
   "metadata": {},
   "outputs": [
    {
     "name": "stdout",
     "output_type": "stream",
     "text": [
      "Linear regression score: 0.123372\n",
      "Linear model coefficients: [ 0.33286824 -0.40630771  0.32131679]\n",
      "Linear model y intercept: -7.723739\n"
     ]
    }
   ],
   "source": [
    "X = west[['WS', 'BPM', 'PER']]\n",
    "\n",
    "lm = LinearRegression()\n",
    "\n",
    "model = lm.fit(X, y)\n",
    "\n",
    "predictions = lm.predict(X)\n",
    "\n",
    "print(\"Linear regression score: %f\" % lm.score(X, y))\n",
    "\n",
    "print(\"Linear model coefficients: \" + str(lm.coef_))\n",
    "\n",
    "print(\"Linear model y intercept: %f\" % lm.intercept_)"
   ]
  },
  {
   "cell_type": "code",
   "execution_count": 44,
   "metadata": {},
   "outputs": [
    {
     "name": "stdout",
     "output_type": "stream",
     "text": [
      "Linear regression score: 0.095250\n",
      "Linear model coefficients: [ 0.68667754 -0.91695362  0.08095976]\n",
      "Linear model y intercept: -10.080367\n"
     ]
    }
   ],
   "source": [
    "X = west[['WS', 'VORP', 'PER']]\n",
    "\n",
    "lm = LinearRegression()\n",
    "\n",
    "model = lm.fit(X, y)\n",
    "\n",
    "predictions = lm.predict(X)\n",
    "\n",
    "print(\"Linear regression score: %f\" % lm.score(X, y))\n",
    "\n",
    "print(\"Linear model coefficients: \" + str(lm.coef_))\n",
    "\n",
    "print(\"Linear model y intercept: %f\" % lm.intercept_)"
   ]
  },
  {
   "cell_type": "code",
   "execution_count": 45,
   "metadata": {},
   "outputs": [
    {
     "name": "stdout",
     "output_type": "stream",
     "text": [
      "Linear regression score: 0.116600\n",
      "Linear model coefficients: [ 0.96852586 -0.51090529  0.3323968 ]\n",
      "Linear model y intercept: -3.354391\n"
     ]
    }
   ],
   "source": [
    "X = west[['VORP', 'BPM', 'PER']]\n",
    "\n",
    "lm = LinearRegression()\n",
    "\n",
    "model = lm.fit(X, y)\n",
    "\n",
    "predictions = lm.predict(X)\n",
    "\n",
    "print(\"Linear regression score: %f\" % lm.score(X, y))\n",
    "\n",
    "print(\"Linear model coefficients: \" + str(lm.coef_))\n",
    "\n",
    "print(\"Linear model y intercept: %f\" % lm.intercept_)"
   ]
  },
  {
   "cell_type": "code",
   "execution_count": 46,
   "metadata": {},
   "outputs": [
    {
     "name": "stdout",
     "output_type": "stream",
     "text": [
      "Linear regression score: 0.123372\n",
      "Linear model coefficients: [ 0.3322475  -0.40648166  0.00217331  0.32132004]\n",
      "Linear model y intercept: -7.720135\n"
     ]
    }
   ],
   "source": [
    "X = west[['WS', 'BPM', 'VORP', 'PER']]\n",
    "\n",
    "lm = LinearRegression()\n",
    "\n",
    "model = lm.fit(X, y)\n",
    "\n",
    "predictions = lm.predict(X)\n",
    "\n",
    "print(\"Linear regression score: %f\" % lm.score(X, y))\n",
    "\n",
    "print(\"Linear model coefficients: \" + str(lm.coef_))\n",
    "\n",
    "print(\"Linear model y intercept: %f\" % lm.intercept_)"
   ]
  },
  {
   "cell_type": "code",
   "execution_count": 48,
   "metadata": {},
   "outputs": [
    {
     "name": "stdout",
     "output_type": "stream",
     "text": [
      "Linear regression score: 0.087750\n",
      "Linear model coefficients: [0.42369582]\n",
      "Linear model y intercept: -10.415371\n"
     ]
    }
   ],
   "source": [
    "X = west.loc[:, \"WS\":\"WS\"]\n",
    "\n",
    "lm = LinearRegression()\n",
    "\n",
    "model = lm.fit(X, y)\n",
    "\n",
    "predictions = lm.predict(X)\n",
    "\n",
    "print(\"Linear regression score: %f\" % lm.score(X, y))\n",
    "\n",
    "print(\"Linear model coefficients: \" + str(lm.coef_))\n",
    "\n",
    "print(\"Linear model y intercept: %f\" % lm.intercept_)"
   ]
  },
  {
   "cell_type": "code",
   "execution_count": null,
   "metadata": {},
   "outputs": [],
   "source": []
  }
 ],
 "metadata": {
  "kernelspec": {
   "display_name": "Python 3",
   "language": "python",
   "name": "python3"
  },
  "language_info": {
   "codemirror_mode": {
    "name": "ipython",
    "version": 3
   },
   "file_extension": ".py",
   "mimetype": "text/x-python",
   "name": "python",
   "nbconvert_exporter": "python",
   "pygments_lexer": "ipython3",
   "version": "3.6.5"
  }
 },
 "nbformat": 4,
 "nbformat_minor": 2
}
